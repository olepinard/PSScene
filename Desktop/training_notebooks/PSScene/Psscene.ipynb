{
 "cells": [
  {
   "cell_type": "markdown",
   "id": "4ce804e5",
   "metadata": {},
   "source": [
    "# PSScene Transition Workshop\n",
    "This workshop is meant to outline the changes that you will need to implement during the PSScene migration. We will cover the Data API, Order's API and Subscription API.\n",
    "\n",
    "Quick links:\n",
    "\n",
    "[PSScene3Band and PSScene4Band depretiation document](https://developers.planet.com/docs/apis/data/psscene3-4band-deprecation/)\n",
    "\n",
    "[PSScene](https://developers.planet.com/docs/data/psscene/)\n"
   ]
  },
  {
   "cell_type": "code",
   "execution_count": null,
   "id": "9779b464",
   "metadata": {},
   "outputs": [],
   "source": [
    "import os\n",
    "import json\n",
    "import requests\n",
    "from requests.auth import HTTPBasicAuth\n",
    "\n",
    "# API Key stored as an env variable\n",
    "PLANET_API_KEY = os.getenv('PL_API_KEY')"
   ]
  },
  {
   "cell_type": "markdown",
   "id": "6a81f411",
   "metadata": {},
   "source": [
    "## Data API\n",
    "Here is an outline of a request body to make a quicksearch. The comments highlight the areas that will need changing during the migration."
   ]
  },
  {
   "cell_type": "code",
   "execution_count": null,
   "id": "2eeeef26",
   "metadata": {},
   "outputs": [],
   "source": [
    "# Stockton, CA bounding box (created via geojson.io) \n",
    "geojson_geometry = {\n",
    "  \"type\" : \"Polygon\", \n",
    "  \"coordinates\": [[[\n",
    "              -122.56587982177734,\n",
    "              37.69088430259205\n",
    "            ],\n",
    "            [\n",
    "              -122.3444366455078,\n",
    "              37.69088430259205\n",
    "            ],\n",
    "            [\n",
    "              -122.3444366455078,\n",
    "              37.814123701604466\n",
    "            ],\n",
    "            [\n",
    "              -122.56587982177734,\n",
    "              37.814123701604466\n",
    "            ],\n",
    "            [\n",
    "              -122.56587982177734,\n",
    "              37.69088430259205\n",
    "            ]]]\n",
    "}"
   ]
  },
  {
   "cell_type": "code",
   "execution_count": null,
   "id": "8c4d67cc",
   "metadata": {},
   "outputs": [],
   "source": [
    "# get images that overlap with our AOI \n",
    "geometry_filter = {\n",
    "  \"type\": \"GeometryFilter\",\n",
    "  \"field_name\": \"geometry\",\n",
    "  \"config\": geojson_geometry\n",
    "}\n",
    "\n",
    "# get images acquired within a date range\n",
    "date_range_filter = {\n",
    "  \"type\": \"DateRangeFilter\",\n",
    "  \"field_name\": \"acquired\",\n",
    "  \"config\": {\n",
    "    \"gt\":\"2021-12-31T00:00:00Z\",\n",
    "    \"lte\":\"2022-01-31T00:00:00Z\"\n",
    "  }\n",
    "}\n",
    "\n",
    "# only get images which have <50% cloud coverage\n",
    "cloud_cover_filter = {\n",
    "  \"type\": \"RangeFilter\",\n",
    "  \"field_name\": \"cloud_cover\",\n",
    "  \"config\": {\n",
    "    \"lte\": 0.5\n",
    "  }\n",
    "}"
   ]
  },
  {
   "cell_type": "markdown",
   "id": "f0e5eec7",
   "metadata": {},
   "source": [
    "Now switch it to ```PSScene``` and change the `asset_filter`. All of the assets will either start with ortho or basic."
   ]
  },
  {
   "cell_type": "code",
   "execution_count": null,
   "id": "e0b42bfc",
   "metadata": {},
   "outputs": [],
   "source": [
    "item_type = \"PSScene\" #PSScene\n",
    "\n",
    "\n",
    "asset_filter = {\n",
    "        \"type\": \"AssetFilter\",\n",
    "        \"config\": [\"ortho_analytic_4b_sr\"] #ortho_analytic_4b_sr\n",
    "      }\n",
    "\n",
    "combined_filter = {\n",
    "  \"type\": \"AndFilter\",\n",
    "  \"config\": [geometry_filter, date_range_filter, cloud_cover_filter, asset_filter]\n",
    "}"
   ]
  },
  {
   "cell_type": "code",
   "execution_count": null,
   "id": "dfa2335b",
   "metadata": {},
   "outputs": [],
   "source": [
    "\n",
    "# API request object\n",
    "search_request = {\n",
    "  \"item_types\": [item_type], \n",
    "  \"filter\": combined_filter\n",
    "}\n",
    "\n",
    "# fire off the POST request\n",
    "search_result = \\\n",
    "  requests.post(\n",
    "    'https://api.planet.com/data/v1/quick-search',\n",
    "    auth=HTTPBasicAuth(PLANET_API_KEY, ''),\n",
    "    json=search_request)\n",
    "\n",
    "\n",
    "print(json.dumps(search_result.json(), indent=1)) "
   ]
  },
  {
   "cell_type": "code",
   "execution_count": null,
   "id": "09137daa",
   "metadata": {},
   "outputs": [],
   "source": [
    "# extract image IDs only\n",
    "image_ids = [feature['id'] for feature in search_result.json()['features']]\n",
    "print(image_ids)"
   ]
  },
  {
   "cell_type": "markdown",
   "id": "dab1ffbb",
   "metadata": {},
   "source": [
    "## Order's API\n",
    "This section takes an ID from above and orders that scene with the correct inputs. Followed by scripts to download them. Same as above the new PSScene changes are commented in. "
   ]
  },
  {
   "cell_type": "code",
   "execution_count": null,
   "id": "b2dded7f",
   "metadata": {},
   "outputs": [],
   "source": [
    "orders_url = 'https://api.planet.com/compute/ops/orders/v2'\n",
    "auth = HTTPBasicAuth(PLANET_API_KEY, '')\n",
    "response = requests.get(orders_url, auth=auth)\n",
    "response\n",
    "\n",
    "# set content type to json\n",
    "headers = {'content-type': 'application/json'}"
   ]
  },
  {
   "cell_type": "markdown",
   "id": "0ea9d537",
   "metadata": {},
   "source": [
    "Change `item_type` and ```product_bundles```"
   ]
  },
  {
   "cell_type": "code",
   "execution_count": null,
   "id": "b2962033",
   "metadata": {},
   "outputs": [],
   "source": [
    "request = {  \n",
    "   \"name\":\"PSScene order\",\n",
    "   \"products\":[\n",
    "      {  \n",
    "         \"item_ids\":[  \n",
    "            '20220130_183458_12_249d'\n",
    "         ],\n",
    "         \"item_type\":\"PSScene\", #PSScene\n",
    "         \"product_bundle\":\"analytic_udm2\" #analytic_udm2\n",
    "      }\n",
    "   ],\n",
    "}"
   ]
  },
  {
   "cell_type": "code",
   "execution_count": null,
   "id": "056fc29c",
   "metadata": {},
   "outputs": [],
   "source": [
    "def place_order(request, auth):\n",
    "    response = requests.post(orders_url, data=json.dumps(request), auth=auth, headers=headers)\n",
    "    print(response.json())\n",
    "    order_id = response.json()['id']\n",
    "    print(order_id)\n",
    "    order_url = orders_url + '/' + order_id\n",
    "    return order_url"
   ]
  },
  {
   "cell_type": "markdown",
   "id": "77fe6ef2",
   "metadata": {},
   "source": [
    "You can see the `item_type` and ```product_bundles``` in the response"
   ]
  },
  {
   "cell_type": "code",
   "execution_count": null,
   "id": "de9a80ac",
   "metadata": {},
   "outputs": [],
   "source": [
    "order_url = place_order(request, auth)"
   ]
  },
  {
   "cell_type": "markdown",
   "id": "4f38440c",
   "metadata": {},
   "source": [
    "The tool supports 15 band calculations so customers can get all the raw bands of an 8-band asset and perform 7 calculations"
   ]
  },
  {
   "cell_type": "code",
   "execution_count": null,
   "id": "30f38662",
   "metadata": {},
   "outputs": [],
   "source": [
    "bandmath = {\n",
    "  \"bandmath\": {\n",
    "    \"pixel_type\": \"32R\",\n",
    "    \"b1\": \"b1\",\n",
    "    \"b2\": \"b2\",\n",
    "    \"b3\": \"b3\",\n",
    "    \"b4\": \"b4\",\n",
    "    \"b5\": \"b5\",\n",
    "    \"b6\": \"b6\",\n",
    "    \"b7\": \"b7\",\n",
    "    \"b8\": \"b8\",\n",
    "    \"b9\": \"(b8 - b6) / (b8 + b6)\", #NDVI\n",
    "    \"b10\": \"(b4 - b8) / (b4 + b6)\" #NDWI\n",
    "  }\n",
    "}"
   ]
  },
  {
   "cell_type": "code",
   "execution_count": null,
   "id": "448dcf93",
   "metadata": {},
   "outputs": [],
   "source": [
    "bandmath_request = {  \n",
    "   \"name\":\"bandmath order\",\n",
    "   \"products\":[\n",
    "      {  \n",
    "         \"item_ids\":[  \n",
    "            '20220130_183458_12_249d'\n",
    "         ],\n",
    "         \"item_type\":\"PSScene\", #PSScene\n",
    "         \"product_bundle\":\"analytic_8b_udm2\" #analytic_udm2\n",
    "      }\n",
    "   ],\n",
    "    \"tools\": [bandmath]\n",
    "}\n",
    "\n",
    "bandmath_order_url = place_order(bandmath_request, auth)"
   ]
  },
  {
   "cell_type": "code",
   "execution_count": null,
   "id": "fbf995af",
   "metadata": {},
   "outputs": [],
   "source": [
    "import pathlib\n",
    "def download_results(results, overwrite=False):\n",
    "    results_urls = [r['location'] for r in results]\n",
    "    results_names = [r['name'] for r in results]\n",
    "    print('{} items to download'.format(len(results_urls)))\n",
    "    \n",
    "    for url, name in zip(results_urls, results_names):\n",
    "        path = pathlib.Path(os.path.join('data', name))\n",
    "        \n",
    "        if overwrite or not path.exists():\n",
    "            print('downloading {} to {}'.format(name, path))\n",
    "            r = requests.get(url, allow_redirects=True)\n",
    "            path.parent.mkdir(parents=True, exist_ok=True)\n",
    "            open(path, 'wb').write(r.content)\n",
    "        else:\n",
    "            print('{} already exists, skipping {}'.format(path, name))"
   ]
  },
  {
   "cell_type": "code",
   "execution_count": null,
   "id": "b70e07a7",
   "metadata": {},
   "outputs": [],
   "source": [
    "requests.get(order_url, auth=auth).json()['state']"
   ]
  },
  {
   "cell_type": "markdown",
   "id": "e5f9fee1",
   "metadata": {},
   "source": [
    "Simply changing to an old order for the demo as the other one is still running"
   ]
  },
  {
   "cell_type": "code",
   "execution_count": null,
   "id": "4d057972",
   "metadata": {
    "scrolled": true
   },
   "outputs": [],
   "source": [
    "#old_order_url = \"https://api.planet.com/compute/ops/orders/v2/1726717d-54b8-4601-bd62-5108b481f69f\"\n",
    "r = requests.get(old_order_url, auth=auth)\n",
    "response = r.json()\n",
    "results = response['_links']['results']"
   ]
  },
  {
   "cell_type": "markdown",
   "id": "bd8e5020",
   "metadata": {},
   "source": [
    "Be mindful that the folder naming has changed for `PSScene3band` and `PSScene4band` to `PSScene`"
   ]
  },
  {
   "cell_type": "code",
   "execution_count": null,
   "id": "63f5977b",
   "metadata": {},
   "outputs": [],
   "source": [
    "[r['name'] for r in results]"
   ]
  },
  {
   "cell_type": "code",
   "execution_count": null,
   "id": "42f03bed",
   "metadata": {},
   "outputs": [],
   "source": [
    "download_results(results)"
   ]
  },
  {
   "cell_type": "markdown",
   "id": "75bc31a6",
   "metadata": {},
   "source": [
    "## Subscription's API\n",
    "Lastly this section shows the request body and how to create a subcription. In this case changing from the 3band visual asset to the PSScene visual asset."
   ]
  },
  {
   "cell_type": "code",
   "execution_count": null,
   "id": "a252f833",
   "metadata": {},
   "outputs": [],
   "source": [
    "# set content type to json\n",
    "headers = {'content-type': 'application/json'}\n",
    "\n",
    "# set your delivery details\n",
    "BUCKET_NAME = 'name of bucket'\n",
    "GCS_CREDENTIALS= \"credentials string\""
   ]
  },
  {
   "cell_type": "code",
   "execution_count": null,
   "id": "df92e4ae",
   "metadata": {},
   "outputs": [],
   "source": [
    "request = {\n",
    "    \"name\": \"Recurring Subscription\",\n",
    "    \"source\": {\n",
    "        \"type\": \"catalog\",\n",
    "        \"parameters\": {\n",
    "            \"geometry\": {\n",
    "                \"coordinates\": [[[139.5648193359375,35.42374884923695],\n",
    "                                [140.1031494140625,35.42374884923695],\n",
    "                                [140.1031494140625,35.77102915686019],\n",
    "                                [139.5648193359375,35.77102915686019],\n",
    "                                [139.5648193359375,35.42374884923695]]],\n",
    "                \"type\": \"Polygon\"\n",
    "            },\n",
    "            \"start_time\": \"2022-03-01T00:00:00Z\",\n",
    "            \"end_time\": \"2023-11-01T00:00:00Z\",\n",
    "            \"rrule\": \"FREQ=MONTHLY;BYMONTH=3,4,5,6,7,8,9,10\",\n",
    "            \"item_types\": [\"PSscene3band\"],  #PSScene\n",
    "            \"asset_types\": [\"visual\"] #ortho_visual\n",
    "        }\n",
    "    },\n",
    "    \"delivery\": { \n",
    "        \"type\": \"google_cloud_storage\",\n",
    "        \"parameters\": {\n",
    "            \"bucket\": BUCKET_NAME,\n",
    "            \"credentials\": GCS_CREDENTIALS,\n",
    "                \n",
    "        }\n",
    "    }\n",
    "}"
   ]
  },
  {
   "cell_type": "code",
   "execution_count": null,
   "id": "eda302d7",
   "metadata": {},
   "outputs": [],
   "source": [
    "def place_subscription(request, auth):\n",
    "    response = requests.post(subscriptions_url, data=json.dumps(request), auth=auth, headers=headers)\n",
    "    print(response)\n",
    "    subscriptions_id = response.json()['id']\n",
    "    print(subscriptions_id)\n",
    "    subscription_url = subscriptions_url + '/' + subscriptions_id\n",
    "    return subscription_url"
   ]
  }
 ],
 "metadata": {
  "kernelspec": {
   "display_name": "Python 3 (ipykernel)",
   "language": "python",
   "name": "python3"
  },
  "language_info": {
   "codemirror_mode": {
    "name": "ipython",
    "version": 3
   },
   "file_extension": ".py",
   "mimetype": "text/x-python",
   "name": "python",
   "nbconvert_exporter": "python",
   "pygments_lexer": "ipython3",
   "version": "3.9.5"
  }
 },
 "nbformat": 4,
 "nbformat_minor": 5
}
